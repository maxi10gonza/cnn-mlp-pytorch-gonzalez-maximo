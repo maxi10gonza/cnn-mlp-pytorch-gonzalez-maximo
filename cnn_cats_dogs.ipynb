{
 "cells": [
  {
   "cell_type": "markdown",
   "metadata": {},
   "source": [
    "# CNN con PyTorch - Clasificación Cats vs Dogs\n",
    "\n",
    "Este notebook entrena un modelo sencillo de red neuronal convolucional para clasificar imágenes de gatos y perros.\n"
   ]
  },
  {
   "cell_type": "markdown",
   "id": "7fdf0911",
   "metadata": {},
   "source": [
    "## Importaciones y preparacion de Datos"
   ]
  },
  {
   "cell_type": "code",
   "execution_count": 11,
   "metadata": {},
   "outputs": [
    {
     "name": "stderr",
     "output_type": "stream",
     "text": [
      "100%|██████████| 9.91M/9.91M [00:03<00:00, 2.74MB/s]\n",
      "100%|██████████| 28.9k/28.9k [00:00<00:00, 163kB/s]\n",
      "100%|██████████| 1.65M/1.65M [00:03<00:00, 531kB/s]\n",
      "100%|██████████| 4.54k/4.54k [00:00<00:00, 10.9kB/s]\n"
     ]
    }
   ],
   "source": [
    "import torch\n",
    "import torch.nn as nn\n",
    "import torch.optim as optim\n",
    "import torch.nn.functional as F\n",
    "from torchvision import datasets, transforms\n",
    "from torch.utils.data import DataLoader\n",
    "import matplotlib.pyplot as plt\n",
    "\n",
    "# Transformaciones: normalización y tensor\n",
    "transform = transforms.Compose([\n",
    "    transforms.ToTensor(),\n",
    "    transforms.Normalize((0.5,), (0.5,))\n",
    "])\n",
    "\n",
    "# Cargar dataset MNIST\n",
    "train_dataset = datasets.MNIST(root='./data', train=True, transform=transform, download=True)\n",
    "test_dataset = datasets.MNIST(root='./data', train=False, transform=transform, download=True)\n",
    "\n",
    "train_loader = DataLoader(train_dataset, batch_size=64, shuffle=True)\n",
    "test_loader = DataLoader(test_dataset, batch_size=1000, shuffle=False)\n",
    "\n",
    "device = torch.device(\"cuda\" if torch.cuda.is_available() else \"cpu\")\n"
   ]
  },
  {
   "cell_type": "markdown",
   "id": "eb00673b",
   "metadata": {},
   "source": [
    "## Definicion de la CNN"
   ]
  },
  {
   "cell_type": "code",
   "execution_count": 13,
   "id": "2cdfac92",
   "metadata": {},
   "outputs": [],
   "source": [
    "class SimpleCNN(nn.Module):\n",
    "    def __init__(self):\n",
    "        super(SimpleCNN, self).__init__()\n",
    "        self.conv1 = nn.Conv2d(1, 32, 3, 1)   # 32 filtros, kernel 3x3\n",
    "        self.conv2 = nn.Conv2d(32, 64, 3, 1) # 64 filtros\n",
    "        self.dropout1 = nn.Dropout(0.25)\n",
    "        self.fc1 = nn.Linear(9216, 128)      # Capa fully connected\n",
    "        self.fc2 = nn.Linear(128, 10)\n",
    "\n",
    "    def forward(self, x):\n",
    "        x = self.conv1(x)\n",
    "        x = F.relu(x)\n",
    "        x = self.conv2(x)\n",
    "        x = F.relu(x)\n",
    "        x = F.max_pool2d(x, 2)\n",
    "        x = self.dropout1(x)\n",
    "        x = torch.flatten(x, 1)\n",
    "        x = self.fc1(x)\n",
    "        x = F.relu(x)\n",
    "        x = self.fc2(x)\n",
    "        return x\n"
   ]
  },
  {
   "cell_type": "markdown",
   "id": "28e088ae",
   "metadata": {},
   "source": [
    "## Entrenamiento y Evaluacion de la CNN"
   ]
  },
  {
   "cell_type": "code",
   "execution_count": 14,
   "metadata": {},
   "outputs": [
    {
     "name": "stdout",
     "output_type": "stream",
     "text": [
      "Epoch 1, Loss: 0.1418\n",
      "Epoch 2, Loss: 0.0450\n",
      "Epoch 3, Loss: 0.0290\n",
      "Epoch 4, Loss: 0.0217\n",
      "Epoch 5, Loss: 0.0160\n",
      "Accuracy: 98.89%\n"
     ]
    }
   ],
   "source": [
    "model_cnn = SimpleCNN().to(device)\n",
    "optimizer = optim.Adam(model_cnn.parameters(), lr=0.001)\n",
    "criterion = nn.CrossEntropyLoss()\n",
    "\n",
    "def train(model, loader, optimizer, criterion, epochs=5):\n",
    "    model.train()\n",
    "    for epoch in range(epochs):\n",
    "        total_loss = 0\n",
    "        for data, target in loader:\n",
    "            data, target = data.to(device), target.to(device)\n",
    "            optimizer.zero_grad()\n",
    "            output = model(data)\n",
    "            loss = criterion(output, target)\n",
    "            loss.backward()\n",
    "            optimizer.step()\n",
    "            total_loss += loss.item()\n",
    "        print(f\"Epoch {epoch+1}, Loss: {total_loss/len(loader):.4f}\")\n",
    "\n",
    "def test(model, loader):\n",
    "    model.eval()\n",
    "    correct = 0\n",
    "    with torch.no_grad():\n",
    "        for data, target in loader:\n",
    "            data, target = data.to(device), target.to(device)\n",
    "            output = model(data)\n",
    "            pred = output.argmax(dim=1, keepdim=True)\n",
    "            correct += pred.eq(target.view_as(pred)).sum().item()\n",
    "    acc = 100. * correct / len(loader.dataset)\n",
    "    print(f\"Accuracy: {acc:.2f}%\")\n",
    "    return acc\n",
    "\n",
    "# Entrenamos la CNN\n",
    "train(model_cnn, train_loader, optimizer, criterion, epochs=5)\n",
    "acc_cnn = test(model_cnn, test_loader)\n"
   ]
  },
  {
   "cell_type": "markdown",
   "id": "42ad9ab9",
   "metadata": {},
   "source": [
    "## Definicion del MLP"
   ]
  },
  {
   "cell_type": "code",
   "execution_count": 15,
   "metadata": {},
   "outputs": [],
   "source": [
    "class SimpleMLP(nn.Module):\n",
    "    def __init__(self):\n",
    "        super(SimpleMLP, self).__init__()\n",
    "        self.fc1 = nn.Linear(28*28, 256)\n",
    "        self.fc2 = nn.Linear(256, 128)\n",
    "        self.fc3 = nn.Linear(128, 10)\n",
    "\n",
    "    def forward(self, x):\n",
    "        x = torch.flatten(x, 1)\n",
    "        x = F.relu(self.fc1(x))\n",
    "        x = F.relu(self.fc2(x))\n",
    "        x = self.fc3(x)\n",
    "        return x\n"
   ]
  },
  {
   "cell_type": "markdown",
   "id": "6a6d623f",
   "metadata": {},
   "source": [
    "## Entrenamiento y Evaluacion del MLP"
   ]
  },
  {
   "cell_type": "code",
   "execution_count": 16,
   "metadata": {},
   "outputs": [
    {
     "name": "stdout",
     "output_type": "stream",
     "text": [
      "Epoch 1, Loss: 0.3462\n",
      "Epoch 2, Loss: 0.1572\n",
      "Epoch 3, Loss: 0.1138\n",
      "Epoch 4, Loss: 0.0928\n",
      "Epoch 5, Loss: 0.0750\n",
      "Accuracy: 96.94%\n"
     ]
    }
   ],
   "source": [
    "model_mlp = SimpleMLP().to(device)\n",
    "optimizer_mlp = optim.Adam(model_mlp.parameters(), lr=0.001)\n",
    "\n",
    "train(model_mlp, train_loader, optimizer_mlp, criterion, epochs=5)\n",
    "acc_mlp = test(model_mlp, test_loader)\n"
   ]
  },
  {
   "cell_type": "markdown",
   "id": "5a05e6f5",
   "metadata": {},
   "source": [
    "## Comparacion Final"
   ]
  },
  {
   "cell_type": "code",
   "execution_count": 18,
   "id": "c8963ba2",
   "metadata": {},
   "outputs": [
    {
     "name": "stdout",
     "output_type": "stream",
     "text": [
      "Accuracy CNN: 98.89%\n",
      "Accuracy MLP: 96.94%\n",
      "La CNN tuvo mejor desempeño.\n"
     ]
    }
   ],
   "source": [
    "print(f\"Accuracy CNN: {acc_cnn:.2f}%\")\n",
    "print(f\"Accuracy MLP: {acc_mlp:.2f}%\")\n",
    "\n",
    "if acc_cnn > acc_mlp:\n",
    "    print(\"La CNN tuvo mejor desempeño.\")\n",
    "else:\n",
    "    print(\"El MLP tuvo mejor desempeño.\")\n"
   ]
  }
 ],
 "metadata": {
  "kernelspec": {
   "display_name": "Python 3",
   "language": "python",
   "name": "python3"
  },
  "language_info": {
   "codemirror_mode": {
    "name": "ipython",
    "version": 3
   },
   "file_extension": ".py",
   "mimetype": "text/x-python",
   "name": "python",
   "nbconvert_exporter": "python",
   "pygments_lexer": "ipython3",
   "version": "3.13.7"
  }
 },
 "nbformat": 4,
 "nbformat_minor": 5
}
